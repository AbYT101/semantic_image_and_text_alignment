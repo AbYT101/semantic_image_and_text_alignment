{
 "cells": [
  {
   "cell_type": "code",
   "execution_count": 1,
   "metadata": {},
   "outputs": [],
   "source": [
    "# Step to modify the Python path\n",
    "import sys\n",
    "import os\n",
    "\n",
    "# Add the src directory to the Python path\n",
    "sys.path.append(os.path.abspath(os.path.join(os.getcwd(), '..', 'src')))"
   ]
  },
  {
   "cell_type": "code",
   "execution_count": 3,
   "metadata": {},
   "outputs": [
    {
     "ename": "FileNotFoundError",
     "evalue": "[Errno 2] No such file or directory: 'data/design_concepts.txt'",
     "output_type": "error",
     "traceback": [
      "\u001b[0;31m---------------------------------------------------------------------------\u001b[0m",
      "\u001b[0;31mFileNotFoundError\u001b[0m                         Traceback (most recent call last)",
      "Cell \u001b[0;32mIn[3], line 1\u001b[0m\n\u001b[0;32m----> 1\u001b[0m \u001b[38;5;28;01mfrom\u001b[39;00m \u001b[38;5;21;01mad_generation_pipeline\u001b[39;00m \u001b[38;5;28;01mimport\u001b[39;00m AdGenerationPipeline\n",
      "File \u001b[0;32m~/semantic_image_and_text_alignment/src/ad_generation_pipeline.py:4\u001b[0m\n\u001b[1;32m      2\u001b[0m \u001b[38;5;28;01mfrom\u001b[39;00m \u001b[38;5;21;01mPIL\u001b[39;00m \u001b[38;5;28;01mimport\u001b[39;00m Image\n\u001b[1;32m      3\u001b[0m \u001b[38;5;28;01mfrom\u001b[39;00m \u001b[38;5;21;01mimage_composing_with_diffusor\u001b[39;00m \u001b[38;5;28;01mimport\u001b[39;00m ImageComposingAgent\n\u001b[0;32m----> 4\u001b[0m \u001b[38;5;28;01mfrom\u001b[39;00m \u001b[38;5;21;01mcritic_grading_agent\u001b[39;00m \u001b[38;5;28;01mimport\u001b[39;00m CriticGradingAgent\n\u001b[1;32m      5\u001b[0m \u001b[38;5;28;01mfrom\u001b[39;00m \u001b[38;5;21;01mtext_analysis\u001b[39;00m \u001b[38;5;28;01mimport\u001b[39;00m text_agent\n\u001b[1;32m      6\u001b[0m \u001b[38;5;28;01mfrom\u001b[39;00m \u001b[38;5;21;01mopenai_image_analysis\u001b[39;00m \u001b[38;5;28;01mimport\u001b[39;00m openai_image_agent\n",
      "File \u001b[0;32m~/semantic_image_and_text_alignment/src/critic_grading_agent.py:77\u001b[0m\n\u001b[1;32m     73\u001b[0m         \u001b[38;5;28;01mreturn\u001b[39;00m suggestions\n\u001b[1;32m     76\u001b[0m \u001b[38;5;66;03m# Load the knowledge base from the file\u001b[39;00m\n\u001b[0;32m---> 77\u001b[0m \u001b[38;5;28;01mwith\u001b[39;00m \u001b[38;5;28;43mopen\u001b[39;49m\u001b[43m(\u001b[49m\u001b[38;5;124;43m'\u001b[39;49m\u001b[38;5;124;43mdata/design_concepts.txt\u001b[39;49m\u001b[38;5;124;43m'\u001b[39;49m\u001b[43m,\u001b[49m\u001b[43m \u001b[49m\u001b[38;5;124;43m'\u001b[39;49m\u001b[38;5;124;43mr\u001b[39;49m\u001b[38;5;124;43m'\u001b[39;49m\u001b[43m)\u001b[49m \u001b[38;5;28;01mas\u001b[39;00m file:\n\u001b[1;32m     78\u001b[0m     knowledge_base \u001b[38;5;241m=\u001b[39m file\u001b[38;5;241m.\u001b[39mread()\n\u001b[1;32m     80\u001b[0m \u001b[38;5;66;03m# Instantiate the critic/grading agent\u001b[39;00m\n",
      "\u001b[0;31mFileNotFoundError\u001b[0m: [Errno 2] No such file or directory: 'data/design_concepts.txt'"
     ]
    }
   ],
   "source": [
    "from ad_generation_pipeline import AdGenerationPipeline"
   ]
  },
  {
   "cell_type": "code",
   "execution_count": null,
   "metadata": {},
   "outputs": [],
   "source": [
    "   # Define the concept dictionary\n",
    "concept = {\n",
    "        \"concept\": \"Driven by Passion\",\n",
    "        \"assets\": {\n",
    "            \"Background\": \"background.png\",\n",
    "            \"Logo\": \"logo.png\",\n",
    "            \"Main Character\": \"main_character.png\",\n",
    "            \"Secondary Character\": \"secondary_character.png\",\n",
    "            \"Interactive Element\": \"cta.png\",\n",
    "        },\n",
    "        \"implementation\": {\n",
    "            \"frame_1\": {\n",
    "                \"description\": \"A scene of a Lexus car on a race track with the text 'Passion for Speed'.\",\n",
    "                \"interaction_type\": \"Swipe\",\n",
    "                \"next_frame\": \"frame_2\",\n",
    "                \"duration\": \"3 seconds\"\n",
    "            }\n",
    "        },\n",
    "        \"explanation\": \"This concept aligns with Lexus's brand identity of delivering superior quality automobiles.\"\n",
    "    }\n",
    "\n",
    "# Initialize the agents\n",
    "composer_agent = ImageComposingAgent(model_name_or_path=\"CompVis/stable-diffusion-v1-4\")\n",
    "critic_agent = CriticGradingAgent(openai_image_agent, text_agent, 'data/design_concepts.txt')\n",
    "\n",
    "# Create the ad generation pipeline and generate the ad\n",
    "ad_pipeline = AdGenerationPipeline(composer_agent, critic_agent)\n",
    "ad_pipeline.generate_ad(concept)"
   ]
  }
 ],
 "metadata": {
  "kernelspec": {
   "display_name": "venv",
   "language": "python",
   "name": "python3"
  },
  "language_info": {
   "codemirror_mode": {
    "name": "ipython",
    "version": 3
   },
   "file_extension": ".py",
   "mimetype": "text/x-python",
   "name": "python",
   "nbconvert_exporter": "python",
   "pygments_lexer": "ipython3",
   "version": "3.8.10"
  }
 },
 "nbformat": 4,
 "nbformat_minor": 2
}
