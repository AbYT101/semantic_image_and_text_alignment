{
 "cells": [
  {
   "cell_type": "code",
   "execution_count": 1,
   "metadata": {},
   "outputs": [],
   "source": [
    "# Step to modify the Python path\n",
    "import sys\n",
    "import os\n",
    "\n",
    "# Add the src directory to the Python path\n",
    "sys.path.append(os.path.abspath(os.path.join(os.getcwd(), '..', 'src')))"
   ]
  },
  {
   "cell_type": "code",
   "execution_count": 2,
   "metadata": {},
   "outputs": [
    {
     "name": "stderr",
     "output_type": "stream",
     "text": [
      "/home/abraham_teka/semantic_image_and_text_alignment/venv/lib/python3.8/site-packages/tqdm/auto.py:21: TqdmWarning: IProgress not found. Please update jupyter and ipywidgets. See https://ipywidgets.readthedocs.io/en/stable/user_install.html\n",
      "  from .autonotebook import tqdm as notebook_tqdm\n",
      "No model was supplied, defaulted to sshleifer/distilbart-cnn-12-6 and revision a4f8f3e (https://huggingface.co/sshleifer/distilbart-cnn-12-6).\n",
      "Using a pipeline without specifying a model name and revision in production is not recommended.\n",
      "No model was supplied, defaulted to dbmdz/bert-large-cased-finetuned-conll03-english and revision f2482bf (https://huggingface.co/dbmdz/bert-large-cased-finetuned-conll03-english).\n",
      "Using a pipeline without specifying a model name and revision in production is not recommended.\n",
      "Some weights of the model checkpoint at dbmdz/bert-large-cased-finetuned-conll03-english were not used when initializing BertForTokenClassification: ['bert.pooler.dense.bias', 'bert.pooler.dense.weight']\n",
      "- This IS expected if you are initializing BertForTokenClassification from the checkpoint of a model trained on another task or with another architecture (e.g. initializing a BertForSequenceClassification model from a BertForPreTraining model).\n",
      "- This IS NOT expected if you are initializing BertForTokenClassification from the checkpoint of a model that you expect to be exactly identical (initializing a BertForSequenceClassification model from a BertForSequenceClassification model).\n",
      "No model was supplied, defaulted to openai-community/gpt2 and revision 6c0e608 (https://huggingface.co/openai-community/gpt2).\n",
      "Using a pipeline without specifying a model name and revision in production is not recommended.\n",
      "Using cache found in /home/abraham_teka/.cache/torch/hub/ultralytics_yolov5_master\n",
      "YOLOv5 🚀 2024-7-10 Python-3.8.10 torch-2.3.1 CPU\n",
      "\n",
      "Fusing layers... \n",
      "YOLOv5x summary: 444 layers, 86705005 parameters, 0 gradients, 205.5 GFLOPs\n",
      "Adding AutoShape... \n"
     ]
    }
   ],
   "source": [
    "# Import the modules\n",
    "from openai_image_analysis import openai_image_agent\n",
    "from text_analysis import text_agent\n",
    "from critic_grading_agent import CriticGradingAgent"
   ]
  },
  {
   "cell_type": "code",
   "execution_count": 3,
   "metadata": {},
   "outputs": [
    {
     "name": "stdout",
     "output_type": "stream",
     "text": [
      "the response is {'id': 'chatcmpl-9kAtY94qms4bvMsIPk6C6TNhgN0hT', 'object': 'chat.completion', 'created': 1720791996, 'model': 'gpt-4o-2024-05-13', 'choices': [{'index': 0, 'message': {'role': 'assistant', 'content': 'The image contains the following objects:\\n\\n1. A camera lens with details such as \"f=80mm,\" \"Planar,\" and \"T* 2.8\".\\n2. Text that includes the Lexus logo and the words \"L/Certified by Lexus\" and \"Tap the screen to find the nearest Lexus dealership.\"\\n3. A hand icon showing a finger tapping gesture.'}, 'logprobs': None, 'finish_reason': 'stop'}], 'usage': {'prompt_tokens': 439, 'completion_tokens': 76, 'total_tokens': 515}, 'system_fingerprint': 'fp_298125635f'}\n"
     ]
    },
    {
     "name": "stderr",
     "output_type": "stream",
     "text": [
      "Your max_length is set to 50, but your input_length is only 6. Since this is a summarization task, where outputs shorter than the input are typically wanted, you might consider decreasing max_length manually, e.g. summarizer('...', max_length=3)\n"
     ]
    },
    {
     "name": "stdout",
     "output_type": "stream",
     "text": [
      "{'image_analysis': {'objects': ['', '1. A camera lens with details such as \"f=80mm,\" \"Planar,\" and \"T* 2.8\".', '2. Text that includes the Lexus logo and the words \"L/Certified by Lexus\" and \"Tap the screen to find the nearest Lexus dealership.\"', '3. A hand icon showing a finger tapping gesture.'], 'colors': ['', '1. Black', '2. White', '3. Red', '4. Grey'], 'positions': ['', '1. **Lexus Logo and text \"LEXUS\":**', '   - Positioned to the top left corner.', '   ', '2. **Text \"L/CERTIFIED BY LEXUS\":**', '   - Located beneath the Lexus logo and text.', '', '3. **Text \"TAP THE SCREEN to find the nearest Lexus dealership\":**', '   - Positioned in the middle section, slightly towards the top half of the image.', '', '4. **Hand with finger pointing/tapping:**', '   - Positioned to the top-right corner.', '', '5. **Camera lens:**', '   - Dominates the bottom half of the image, centered horizontally.', '   - Text and markings on the lens are distinctly visible in a circular arrangement around the lens.'], 'text': ''}, 'text_analysis': {'summary': ' Movie advertising ad. Movie advertising slogan: \"I love you, I love you. You love you\" Movie ad.', 'key_phrases': [], 'narrative': None}}\n"
     ]
    }
   ],
   "source": [
    "from PIL import Image\n",
    "import pprint\n",
    "\n",
    "# Instantiate the critic/grading agent\n",
    "critic_grading_agent = CriticGradingAgent(openai_image_agent, text_agent)\n",
    "\n",
    "assets_dir = os.path.join('..', 'data', 'assets', 'images')\n",
    "image_files = [os.path.join(assets_dir, f) for f in os.listdir(assets_dir) if f.endswith(('.png', '.jpg', '.jpeg'))]\n",
    "images = [Image.open(file) for file in image_files]\n",
    "\n",
    "# Example usage\n",
    "image = images[0]\n",
    "text = \"Movie advertising ad.\"\n",
    "analysis = critic_grading_agent.analyze_asset(image, text)\n",
    "print(analysis)"
   ]
  },
  {
   "cell_type": "code",
   "execution_count": 4,
   "metadata": {},
   "outputs": [
    {
     "name": "stdout",
     "output_type": "stream",
     "text": [
      "{'image_analysis': {'objects': ['',\n",
      "                                '1. A camera lens with details such as '\n",
      "                                '\"f=80mm,\" \"Planar,\" and \"T* 2.8\".',\n",
      "                                '2. Text that includes the Lexus logo and the '\n",
      "                                'words \"L/Certified by Lexus\" and \"Tap the '\n",
      "                                'screen to find the nearest Lexus dealership.\"',\n",
      "                                '3. A hand icon showing a finger tapping '\n",
      "                                'gesture.'],\n",
      "                    'colors': ['', '1. Black', '2. White', '3. Red', '4. Grey'],\n",
      "                    'positions': ['',\n",
      "                                  '1. **Lexus Logo and text \"LEXUS\":**',\n",
      "                                  '   - Positioned to the top left corner.',\n",
      "                                  '   ',\n",
      "                                  '2. **Text \"L/CERTIFIED BY LEXUS\":**',\n",
      "                                  '   - Located beneath the Lexus logo and '\n",
      "                                  'text.',\n",
      "                                  '',\n",
      "                                  '3. **Text \"TAP THE SCREEN to find the '\n",
      "                                  'nearest Lexus dealership\":**',\n",
      "                                  '   - Positioned in the middle section, '\n",
      "                                  'slightly towards the top half of the image.',\n",
      "                                  '',\n",
      "                                  '4. **Hand with finger pointing/tapping:**',\n",
      "                                  '   - Positioned to the top-right corner.',\n",
      "                                  '',\n",
      "                                  '5. **Camera lens:**',\n",
      "                                  '   - Dominates the bottom half of the '\n",
      "                                  'image, centered horizontally.',\n",
      "                                  '   - Text and markings on the lens are '\n",
      "                                  'distinctly visible in a circular '\n",
      "                                  'arrangement around the lens.'],\n",
      "                    'text': ''},\n",
      " 'text_analysis': {'summary': ' Movie advertising ad. Movie advertising '\n",
      "                              'slogan: \"I love you, I love you. You love you\" '\n",
      "                              'Movie ad.',\n",
      "                   'key_phrases': [],\n",
      "                   'narrative': None}}\n"
     ]
    }
   ],
   "source": [
    "pprint.pp(analysis, depth=300)"
   ]
  }
 ],
 "metadata": {
  "kernelspec": {
   "display_name": "venv",
   "language": "python",
   "name": "python3"
  },
  "language_info": {
   "codemirror_mode": {
    "name": "ipython",
    "version": 3
   },
   "file_extension": ".py",
   "mimetype": "text/x-python",
   "name": "python",
   "nbconvert_exporter": "python",
   "pygments_lexer": "ipython3",
   "version": "3.8.10"
  }
 },
 "nbformat": 4,
 "nbformat_minor": 2
}
