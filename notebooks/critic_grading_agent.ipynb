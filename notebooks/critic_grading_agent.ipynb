{
 "cells": [
  {
   "cell_type": "code",
   "execution_count": 7,
   "metadata": {},
   "outputs": [],
   "source": [
    "# Step to modify the Python path\n",
    "import sys\n",
    "import os\n",
    "\n",
    "# Add the src directory to the Python path\n",
    "sys.path.append(os.path.abspath(os.path.join(os.getcwd(), '..', 'src')))\n"
   ]
  },
  {
   "cell_type": "code",
   "execution_count": 9,
   "metadata": {},
   "outputs": [
    {
     "name": "stderr",
     "output_type": "stream",
     "text": [
      "No model was supplied, defaulted to sshleifer/distilbart-cnn-12-6 and revision a4f8f3e (https://huggingface.co/sshleifer/distilbart-cnn-12-6).\n",
      "Using a pipeline without specifying a model name and revision in production is not recommended.\n",
      "No model was supplied, defaulted to dbmdz/bert-large-cased-finetuned-conll03-english and revision f2482bf (https://huggingface.co/dbmdz/bert-large-cased-finetuned-conll03-english).\n",
      "Using a pipeline without specifying a model name and revision in production is not recommended.\n",
      "Some weights of the model checkpoint at dbmdz/bert-large-cased-finetuned-conll03-english were not used when initializing BertForTokenClassification: ['bert.pooler.dense.bias', 'bert.pooler.dense.weight']\n",
      "- This IS expected if you are initializing BertForTokenClassification from the checkpoint of a model trained on another task or with another architecture (e.g. initializing a BertForSequenceClassification model from a BertForPreTraining model).\n",
      "- This IS NOT expected if you are initializing BertForTokenClassification from the checkpoint of a model that you expect to be exactly identical (initializing a BertForSequenceClassification model from a BertForSequenceClassification model).\n",
      "No model was supplied, defaulted to openai-community/gpt2 and revision 6c0e608 (https://huggingface.co/openai-community/gpt2).\n",
      "Using a pipeline without specifying a model name and revision in production is not recommended.\n"
     ]
    }
   ],
   "source": [
    "# Import the modules\n",
    "from image_analysis import image_agent\n",
    "from text_analysis import text_agent\n",
    "from critic_grading_agent import CriticGradingAgent"
   ]
  },
  {
   "cell_type": "code",
   "execution_count": 20,
   "metadata": {},
   "outputs": [
    {
     "name": "stderr",
     "output_type": "stream",
     "text": [
      "Your max_length is set to 50, but your input_length is only 5. Since this is a summarization task, where outputs shorter than the input are typically wanted, you might consider decreasing max_length manually, e.g. summarizer('...', max_length=2)\n"
     ]
    },
    {
     "name": "stdout",
     "output_type": "stream",
     "text": [
      "{'image_analysis': {'objects': [{'xmin': 125.18331146240234, 'ymin': 30.758792877197266, 'xmax': 441.40570068359375, 'ymax': 459.4189147949219, 'confidence': 0.9283507466316223, 'class': 0, 'name': 'person'}, {'xmin': 127.89159393310547, 'ymin': 544.5322265625, 'xmax': 165.56520080566406, 'ymax': 622.34130859375, 'confidence': 0.5977182984352112, 'class': 0, 'name': 'person'}, {'xmin': 512.4523315429688, 'ymin': 545.7900390625, 'xmax': 551.0690307617188, 'ymax': 621.0743408203125, 'confidence': 0.5927934646606445, 'class': 0, 'name': 'person'}, {'xmin': 268.41925048828125, 'ymin': 553.6668701171875, 'xmax': 331.4898986816406, 'ymax': 620.7162475585938, 'confidence': 0.5833314061164856, 'class': 0, 'name': 'person'}, {'xmin': 72.21623992919922, 'ymin': 553.127197265625, 'xmax': 136.17881774902344, 'ymax': 620.8341674804688, 'confidence': 0.5681154727935791, 'class': 0, 'name': 'person'}, {'xmin': 462.0375061035156, 'ymin': 554.4832153320312, 'xmax': 520.9755859375, 'ymax': 618.9139404296875, 'confidence': 0.5389679074287415, 'class': 0, 'name': 'person'}, {'xmin': 319.9771423339844, 'ymin': 545.7109985351562, 'xmax': 357.5935974121094, 'ymax': 621.0033569335938, 'confidence': 0.515654444694519, 'class': 0, 'name': 'person'}], 'colors': array([     155.75,      120.23,       118.8,         255]), 'positions': [{'class_id': 0, 'confidence': 0.9283507466316223, 'x_min': 125.18331146240234, 'y_min': 30.758792877197266, 'x_max': 441.40570068359375, 'y_max': 459.4189147949219, 'width': 316.2223815917969, 'height': 428.6601257324219}, {'class_id': 0, 'confidence': 0.5977182984352112, 'x_min': 127.89159393310547, 'y_min': 544.5322265625, 'x_max': 165.56520080566406, 'y_max': 622.34130859375, 'width': 37.673606872558594, 'height': 77.80908203125}, {'class_id': 0, 'confidence': 0.5927934646606445, 'x_min': 512.4523315429688, 'y_min': 545.7900390625, 'x_max': 551.0690307617188, 'y_max': 621.0743408203125, 'width': 38.61669921875, 'height': 75.2843017578125}, {'class_id': 0, 'confidence': 0.5833314061164856, 'x_min': 268.41925048828125, 'y_min': 553.6668701171875, 'x_max': 331.4898986816406, 'y_max': 620.7162475585938, 'width': 63.070648193359375, 'height': 67.04937744140625}, {'class_id': 0, 'confidence': 0.5681154727935791, 'x_min': 72.21623992919922, 'y_min': 553.127197265625, 'x_max': 136.17881774902344, 'y_max': 620.8341674804688, 'width': 63.96257781982422, 'height': 67.70697021484375}, {'class_id': 0, 'confidence': 0.5389679074287415, 'x_min': 462.0375061035156, 'y_min': 554.4832153320312, 'x_max': 520.9755859375, 'y_max': 618.9139404296875, 'width': 58.938079833984375, 'height': 64.43072509765625}, {'class_id': 0, 'confidence': 0.515654444694519, 'x_min': 319.9771423339844, 'y_min': 545.7109985351562, 'x_max': 357.5935974121094, 'y_max': 621.0033569335938, 'width': 37.616455078125, 'height': 75.2923583984375}], 'text': ' \\n\\nperatec\\n\\nli\\nIndica’ “ow Indica “om \\\\Indica’ “ox\\n\\nChoose your shade\\n\\nDrag your favourite shade\\nto be #AlwaysReady\\n\\x0c'}, 'text_analysis': {'summary': ' Web ad. Web ad . Web ad: \"I\\'m sorry for what I\\'ve done wrong. I\\'m not sorry for it\" Web ad says .', 'key_phrases': [], 'narrative': None}}\n"
     ]
    }
   ],
   "source": [
    "from PIL import Image\n",
    "import pprint\n",
    "\n",
    "# Instantiate the critic/grading agent\n",
    "critic_grading_agent = CriticGradingAgent(image_agent, text_agent)\n",
    "\n",
    "assets_dir = os.path.join('..', 'data', 'assets', 'images')\n",
    "image_files = [os.path.join(assets_dir, f) for f in os.listdir(assets_dir) if f.endswith(('.png', '.jpg', '.jpeg'))]\n",
    "images = [Image.open(file) for file in image_files]\n",
    "\n",
    "# Example usage\n",
    "image = images[0]\n",
    "text = \"Web ad.\"\n",
    "analysis = critic_grading_agent.analyze_asset(image, text)\n",
    "print(analysis)"
   ]
  },
  {
   "cell_type": "code",
   "execution_count": 21,
   "metadata": {},
   "outputs": [
    {
     "name": "stdout",
     "output_type": "stream",
     "text": [
      "{'image_analysis': {'objects': [{'xmin': 125.18331146240234,\n",
      "                                 'ymin': 30.758792877197266,\n",
      "                                 'xmax': 441.40570068359375,\n",
      "                                 'ymax': 459.4189147949219,\n",
      "                                 'confidence': 0.9283507466316223,\n",
      "                                 'class': 0,\n",
      "                                 'name': 'person'},\n",
      "                                {'xmin': 127.89159393310547,\n",
      "                                 'ymin': 544.5322265625,\n",
      "                                 'xmax': 165.56520080566406,\n",
      "                                 'ymax': 622.34130859375,\n",
      "                                 'confidence': 0.5977182984352112,\n",
      "                                 'class': 0,\n",
      "                                 'name': 'person'},\n",
      "                                {'xmin': 512.4523315429688,\n",
      "                                 'ymin': 545.7900390625,\n",
      "                                 'xmax': 551.0690307617188,\n",
      "                                 'ymax': 621.0743408203125,\n",
      "                                 'confidence': 0.5927934646606445,\n",
      "                                 'class': 0,\n",
      "                                 'name': 'person'},\n",
      "                                {'xmin': 268.41925048828125,\n",
      "                                 'ymin': 553.6668701171875,\n",
      "                                 'xmax': 331.4898986816406,\n",
      "                                 'ymax': 620.7162475585938,\n",
      "                                 'confidence': 0.5833314061164856,\n",
      "                                 'class': 0,\n",
      "                                 'name': 'person'},\n",
      "                                {'xmin': 72.21623992919922,\n",
      "                                 'ymin': 553.127197265625,\n",
      "                                 'xmax': 136.17881774902344,\n",
      "                                 'ymax': 620.8341674804688,\n",
      "                                 'confidence': 0.5681154727935791,\n",
      "                                 'class': 0,\n",
      "                                 'name': 'person'},\n",
      "                                {'xmin': 462.0375061035156,\n",
      "                                 'ymin': 554.4832153320312,\n",
      "                                 'xmax': 520.9755859375,\n",
      "                                 'ymax': 618.9139404296875,\n",
      "                                 'confidence': 0.5389679074287415,\n",
      "                                 'class': 0,\n",
      "                                 'name': 'person'},\n",
      "                                {'xmin': 319.9771423339844,\n",
      "                                 'ymin': 545.7109985351562,\n",
      "                                 'xmax': 357.5935974121094,\n",
      "                                 'ymax': 621.0033569335938,\n",
      "                                 'confidence': 0.515654444694519,\n",
      "                                 'class': 0,\n",
      "                                 'name': 'person'}],\n",
      "                    'colors': array([     155.75,      120.23,       118.8,         255]),\n",
      "                    'positions': [{'class_id': 0,\n",
      "                                   'confidence': 0.9283507466316223,\n",
      "                                   'x_min': 125.18331146240234,\n",
      "                                   'y_min': 30.758792877197266,\n",
      "                                   'x_max': 441.40570068359375,\n",
      "                                   'y_max': 459.4189147949219,\n",
      "                                   'width': 316.2223815917969,\n",
      "                                   'height': 428.6601257324219},\n",
      "                                  {'class_id': 0,\n",
      "                                   'confidence': 0.5977182984352112,\n",
      "                                   'x_min': 127.89159393310547,\n",
      "                                   'y_min': 544.5322265625,\n",
      "                                   'x_max': 165.56520080566406,\n",
      "                                   'y_max': 622.34130859375,\n",
      "                                   'width': 37.673606872558594,\n",
      "                                   'height': 77.80908203125},\n",
      "                                  {'class_id': 0,\n",
      "                                   'confidence': 0.5927934646606445,\n",
      "                                   'x_min': 512.4523315429688,\n",
      "                                   'y_min': 545.7900390625,\n",
      "                                   'x_max': 551.0690307617188,\n",
      "                                   'y_max': 621.0743408203125,\n",
      "                                   'width': 38.61669921875,\n",
      "                                   'height': 75.2843017578125},\n",
      "                                  {'class_id': 0,\n",
      "                                   'confidence': 0.5833314061164856,\n",
      "                                   'x_min': 268.41925048828125,\n",
      "                                   'y_min': 553.6668701171875,\n",
      "                                   'x_max': 331.4898986816406,\n",
      "                                   'y_max': 620.7162475585938,\n",
      "                                   'width': 63.070648193359375,\n",
      "                                   'height': 67.04937744140625},\n",
      "                                  {'class_id': 0,\n",
      "                                   'confidence': 0.5681154727935791,\n",
      "                                   'x_min': 72.21623992919922,\n",
      "                                   'y_min': 553.127197265625,\n",
      "                                   'x_max': 136.17881774902344,\n",
      "                                   'y_max': 620.8341674804688,\n",
      "                                   'width': 63.96257781982422,\n",
      "                                   'height': 67.70697021484375},\n",
      "                                  {'class_id': 0,\n",
      "                                   'confidence': 0.5389679074287415,\n",
      "                                   'x_min': 462.0375061035156,\n",
      "                                   'y_min': 554.4832153320312,\n",
      "                                   'x_max': 520.9755859375,\n",
      "                                   'y_max': 618.9139404296875,\n",
      "                                   'width': 58.938079833984375,\n",
      "                                   'height': 64.43072509765625},\n",
      "                                  {'class_id': 0,\n",
      "                                   'confidence': 0.515654444694519,\n",
      "                                   'x_min': 319.9771423339844,\n",
      "                                   'y_min': 545.7109985351562,\n",
      "                                   'x_max': 357.5935974121094,\n",
      "                                   'y_max': 621.0033569335938,\n",
      "                                   'width': 37.616455078125,\n",
      "                                   'height': 75.2923583984375}],\n",
      "                    'text': ' \\n'\n",
      "                            '\\n'\n",
      "                            'peratec\\n'\n",
      "                            '\\n'\n",
      "                            'li\\n'\n",
      "                            'Indica’ “ow Indica “om \\\\Indica’ “ox\\n'\n",
      "                            '\\n'\n",
      "                            'Choose your shade\\n'\n",
      "                            '\\n'\n",
      "                            'Drag your favourite shade\\n'\n",
      "                            'to be #AlwaysReady\\n'\n",
      "                            '\\x0c'},\n",
      " 'text_analysis': {'summary': ' Web ad. Web ad . Web ad: \"I\\'m sorry for what '\n",
      "                              'I\\'ve done wrong. I\\'m not sorry for it\" Web ad '\n",
      "                              'says .',\n",
      "                   'key_phrases': [],\n",
      "                   'narrative': None}}\n"
     ]
    }
   ],
   "source": [
    "pprint.pp(analysis, depth=300)"
   ]
  }
 ],
 "metadata": {
  "kernelspec": {
   "display_name": "venv",
   "language": "python",
   "name": "python3"
  },
  "language_info": {
   "codemirror_mode": {
    "name": "ipython",
    "version": 3
   },
   "file_extension": ".py",
   "mimetype": "text/x-python",
   "name": "python",
   "nbconvert_exporter": "python",
   "pygments_lexer": "ipython3",
   "version": "3.8.10"
  }
 },
 "nbformat": 4,
 "nbformat_minor": 2
}
