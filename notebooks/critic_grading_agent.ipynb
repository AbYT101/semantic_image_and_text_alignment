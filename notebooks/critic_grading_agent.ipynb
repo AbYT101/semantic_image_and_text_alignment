{
 "cells": [
  {
   "cell_type": "code",
   "execution_count": 5,
   "metadata": {},
   "outputs": [],
   "source": [
    "# Step to modify the Python path\n",
    "import sys\n",
    "import os\n",
    "\n",
    "# Add the src directory to the Python path\n",
    "sys.path.append(os.path.abspath(os.path.join(os.getcwd(), '..', 'src')))"
   ]
  },
  {
   "cell_type": "code",
   "execution_count": 6,
   "metadata": {},
   "outputs": [],
   "source": [
    "# Import the modules\n",
    "from image_analysis import image_agent\n",
    "from openai_image_analysis import openai_image_agent\n",
    "from text_analysis import text_agent\n",
    "from critic_grading_agent import CriticGradingAgent"
   ]
  },
  {
   "cell_type": "code",
   "execution_count": 7,
   "metadata": {},
   "outputs": [
    {
     "name": "stdout",
     "output_type": "stream",
     "text": [
      "the response is {'id': 'chatcmpl-9kAyZWcU3PQw5cJvKOcWxAMMFOJX2', 'object': 'chat.completion', 'created': 1720792307, 'model': 'gpt-4o-2024-05-13', 'choices': [{'index': 0, 'message': {'role': 'assistant', 'content': 'The image contains the following objects:\\n\\n1. A camera lens with inscriptions indicating its specifications.\\n2. Text that reads \"LEXUS,\" \"L/CERTIFIED BY LEXUS,\" and \"TAP THE SCREEN to find the nearest Lexus dealership.\"\\n3. An icon of a hand tapping a screen.\\n4. A blurred hand partially visible on the right side of the image.'}, 'logprobs': None, 'finish_reason': 'stop'}], 'usage': {'prompt_tokens': 439, 'completion_tokens': 76, 'total_tokens': 515}, 'system_fingerprint': 'fp_298125635f'}\n"
     ]
    },
    {
     "name": "stderr",
     "output_type": "stream",
     "text": [
      "Your max_length is set to 50, but your input_length is only 6. Since this is a summarization task, where outputs shorter than the input are typically wanted, you might consider decreasing max_length manually, e.g. summarizer('...', max_length=3)\n"
     ]
    },
    {
     "name": "stdout",
     "output_type": "stream",
     "text": [
      "{'image_analysis': {'objects': ['', '1. A camera lens with inscriptions indicating its specifications.', '2. Text that reads \"LEXUS,\" \"L/CERTIFIED BY LEXUS,\" and \"TAP THE SCREEN to find the nearest Lexus dealership.\"', '3. An icon of a hand tapping a screen.', '4. A blurred hand partially visible on the right side of the image.'], 'colors': [], 'positions': ['', '1. **Lexus Logo and Text**: ', '   - Position: Top-left corner', '', '2. **L/Certified by Lexus Text**: ', '   - Position: Below Lexus logo and text', '', '3. **Tap the Screen Text**: ', '   - Position: Center, just below the “L/Certified by Lexus” text', '', '4. **Find the nearest Lexus dealership Text**: ', '   - Position: Below the “Tap the Screen” text', '', '5. **Hand Icon pointing to the right**:', '   - Position: Upper-right corner, next to the text', '', '6. **Camera Lens (Zeiss Planar 80mm f/2.8)**:', '   - Position: Bottom half of the image, occupying most of this area'], 'text': ''}, 'text_analysis': {'summary': ' Movie advertising ad. Movie advertising slogan: \"I love you, I love you. You love you\" Movie ad.', 'key_phrases': [], 'narrative': None}}\n"
     ]
    }
   ],
   "source": [
    "from PIL import Image\n",
    "import pprint\n",
    "\n",
    "# Instantiate the critic/grading agent\n",
    "critic_grading_agent = CriticGradingAgent(openai_image_agent, text_agent)\n",
    "\n",
    "assets_dir = os.path.join('..', 'data', 'assets', 'images')\n",
    "image_files = [os.path.join(assets_dir, f) for f in os.listdir(assets_dir) if f.endswith(('.png', '.jpg', '.jpeg'))]\n",
    "images = [Image.open(file) for file in image_files]\n",
    "\n",
    "# Example usage\n",
    "image = images[0]\n",
    "text = \"Movie advertising ad.\"\n",
    "analysis = critic_grading_agent.analyze_asset(image, text)\n",
    "print(analysis)"
   ]
  },
  {
   "cell_type": "code",
   "execution_count": 8,
   "metadata": {},
   "outputs": [
    {
     "name": "stdout",
     "output_type": "stream",
     "text": [
      "{'image_analysis': {'objects': ['',\n",
      "                                '1. A camera lens with inscriptions indicating '\n",
      "                                'its specifications.',\n",
      "                                '2. Text that reads \"LEXUS,\" \"L/CERTIFIED BY '\n",
      "                                'LEXUS,\" and \"TAP THE SCREEN to find the '\n",
      "                                'nearest Lexus dealership.\"',\n",
      "                                '3. An icon of a hand tapping a screen.',\n",
      "                                '4. A blurred hand partially visible on the '\n",
      "                                'right side of the image.'],\n",
      "                    'colors': [],\n",
      "                    'positions': ['',\n",
      "                                  '1. **Lexus Logo and Text**: ',\n",
      "                                  '   - Position: Top-left corner',\n",
      "                                  '',\n",
      "                                  '2. **L/Certified by Lexus Text**: ',\n",
      "                                  '   - Position: Below Lexus logo and text',\n",
      "                                  '',\n",
      "                                  '3. **Tap the Screen Text**: ',\n",
      "                                  '   - Position: Center, just below the '\n",
      "                                  '“L/Certified by Lexus” text',\n",
      "                                  '',\n",
      "                                  '4. **Find the nearest Lexus dealership '\n",
      "                                  'Text**: ',\n",
      "                                  '   - Position: Below the “Tap the Screen” '\n",
      "                                  'text',\n",
      "                                  '',\n",
      "                                  '5. **Hand Icon pointing to the right**:',\n",
      "                                  '   - Position: Upper-right corner, next to '\n",
      "                                  'the text',\n",
      "                                  '',\n",
      "                                  '6. **Camera Lens (Zeiss Planar 80mm '\n",
      "                                  'f/2.8)**:',\n",
      "                                  '   - Position: Bottom half of the image, '\n",
      "                                  'occupying most of this area'],\n",
      "                    'text': ''},\n",
      " 'text_analysis': {'summary': ' Movie advertising ad. Movie advertising '\n",
      "                              'slogan: \"I love you, I love you. You love you\" '\n",
      "                              'Movie ad.',\n",
      "                   'key_phrases': [],\n",
      "                   'narrative': None}}\n"
     ]
    }
   ],
   "source": [
    "pprint.pp(analysis, depth=300)"
   ]
  }
 ],
 "metadata": {
  "kernelspec": {
   "display_name": "venv",
   "language": "python",
   "name": "python3"
  },
  "language_info": {
   "codemirror_mode": {
    "name": "ipython",
    "version": 3
   },
   "file_extension": ".py",
   "mimetype": "text/x-python",
   "name": "python",
   "nbconvert_exporter": "python",
   "pygments_lexer": "ipython3",
   "version": "3.8.10"
  }
 },
 "nbformat": 4,
 "nbformat_minor": 2
}
