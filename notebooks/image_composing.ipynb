{
 "cells": [
  {
   "cell_type": "code",
   "execution_count": 5,
   "metadata": {},
   "outputs": [
    {
     "ename": "AttributeError",
     "evalue": "'ImageDraw' object has no attribute 'textsize'",
     "output_type": "error",
     "traceback": [
      "\u001b[0;31m---------------------------------------------------------------------------\u001b[0m",
      "\u001b[0;31mAttributeError\u001b[0m                            Traceback (most recent call last)",
      "Cell \u001b[0;32mIn[5], line 58\u001b[0m\n\u001b[1;32m     56\u001b[0m \u001b[38;5;66;03m# Instantiate the agent\u001b[39;00m\n\u001b[1;32m     57\u001b[0m image_agent \u001b[38;5;241m=\u001b[39m ImageCompositionAgent()\n\u001b[0;32m---> 58\u001b[0m \u001b[43mimage_agent\u001b[49m\u001b[38;5;241;43m.\u001b[39;49m\u001b[43mgenerate_frames\u001b[49m\u001b[43m(\u001b[49m\u001b[43m)\u001b[49m\n",
      "Cell \u001b[0;32mIn[5], line 54\u001b[0m, in \u001b[0;36mImageCompositionAgent.generate_frames\u001b[0;34m(self)\u001b[0m\n\u001b[1;32m     26\u001b[0m frames \u001b[38;5;241m=\u001b[39m {\n\u001b[1;32m     27\u001b[0m     \u001b[38;5;124m\"\u001b[39m\u001b[38;5;124mframe_1\u001b[39m\u001b[38;5;124m\"\u001b[39m: {\n\u001b[1;32m     28\u001b[0m         \u001b[38;5;124m\"\u001b[39m\u001b[38;5;124mdescription\u001b[39m\u001b[38;5;124m\"\u001b[39m: \u001b[38;5;124m\"\u001b[39m\u001b[38;5;124mA scene of a young adult driving a GM car with the text \u001b[39m\u001b[38;5;124m'\u001b[39m\u001b[38;5;124mFor the Young at Heart\u001b[39m\u001b[38;5;124m'\u001b[39m\u001b[38;5;124m.\u001b[39m\u001b[38;5;124m\"\u001b[39m,\n\u001b[0;32m   (...)\u001b[0m\n\u001b[1;32m     50\u001b[0m     }\n\u001b[1;32m     51\u001b[0m }\n\u001b[1;32m     53\u001b[0m \u001b[38;5;28;01mfor\u001b[39;00m frame \u001b[38;5;129;01min\u001b[39;00m frames\u001b[38;5;241m.\u001b[39mvalues():\n\u001b[0;32m---> 54\u001b[0m     \u001b[38;5;28;43mself\u001b[39;49m\u001b[38;5;241;43m.\u001b[39;49m\u001b[43mcreate_image\u001b[49m\u001b[43m(\u001b[49m\u001b[43mframe\u001b[49m\u001b[43m[\u001b[49m\u001b[38;5;124;43m\"\u001b[39;49m\u001b[38;5;124;43mdescription\u001b[39;49m\u001b[38;5;124;43m\"\u001b[39;49m\u001b[43m]\u001b[49m\u001b[43m,\u001b[49m\u001b[43m \u001b[49m\u001b[43mframe\u001b[49m\u001b[43m[\u001b[49m\u001b[38;5;124;43m\"\u001b[39;49m\u001b[38;5;124;43mheadline\u001b[39;49m\u001b[38;5;124;43m\"\u001b[39;49m\u001b[43m]\u001b[49m\u001b[43m,\u001b[49m\u001b[43m \u001b[49m\u001b[43mframe\u001b[49m\u001b[43m[\u001b[49m\u001b[38;5;124;43m\"\u001b[39;49m\u001b[38;5;124;43mbackground\u001b[39;49m\u001b[38;5;124;43m\"\u001b[39;49m\u001b[43m]\u001b[49m\u001b[43m,\u001b[49m\u001b[43m \u001b[49m\u001b[43mframe\u001b[49m\u001b[43m[\u001b[49m\u001b[38;5;124;43m\"\u001b[39;49m\u001b[38;5;124;43moutput_path\u001b[39;49m\u001b[38;5;124;43m\"\u001b[39;49m\u001b[43m]\u001b[49m\u001b[43m)\u001b[49m\n",
      "Cell \u001b[0;32mIn[5], line 17\u001b[0m, in \u001b[0;36mImageCompositionAgent.create_image\u001b[0;34m(self, description, headline, background, output_path)\u001b[0m\n\u001b[1;32m     14\u001b[0m font \u001b[38;5;241m=\u001b[39m ImageFont\u001b[38;5;241m.\u001b[39mload_default()\n\u001b[1;32m     16\u001b[0m \u001b[38;5;66;03m# Calculate text size\u001b[39;00m\n\u001b[0;32m---> 17\u001b[0m text_width, text_height \u001b[38;5;241m=\u001b[39m \u001b[43mdraw\u001b[49m\u001b[38;5;241;43m.\u001b[39;49m\u001b[43mtextsize\u001b[49m(headline, font\u001b[38;5;241m=\u001b[39mfont)\n\u001b[1;32m     19\u001b[0m \u001b[38;5;66;03m# Add headline text to the image\u001b[39;00m\n\u001b[1;32m     20\u001b[0m draw\u001b[38;5;241m.\u001b[39mtext(((\u001b[38;5;241m800\u001b[39m \u001b[38;5;241m-\u001b[39m text_width) \u001b[38;5;241m/\u001b[39m \u001b[38;5;241m2\u001b[39m, (\u001b[38;5;241m600\u001b[39m \u001b[38;5;241m-\u001b[39m text_height) \u001b[38;5;241m/\u001b[39m \u001b[38;5;241m2\u001b[39m), headline, fill\u001b[38;5;241m=\u001b[39m\u001b[38;5;124m\"\u001b[39m\u001b[38;5;124mwhite\u001b[39m\u001b[38;5;124m\"\u001b[39m, font\u001b[38;5;241m=\u001b[39mfont)\n",
      "\u001b[0;31mAttributeError\u001b[0m: 'ImageDraw' object has no attribute 'textsize'"
     ]
    }
   ],
   "source": [
    "from PIL import Image, ImageDraw, ImageFont\n",
    "from autogen import Agent\n",
    "\n",
    "class ImageCompositionAgent(Agent):\n",
    "    def __init__(self):\n",
    "        super().__init__()\n",
    "\n",
    "    def create_image(self, description: str, headline: str, background: str, output_path: str):\n",
    "        # Create a blank image with the specified background\n",
    "        image = Image.new(\"RGB\", (800, 600), background)\n",
    "        draw = ImageDraw.Draw(image)\n",
    "        \n",
    "        # Use default system font\n",
    "        font = ImageFont.load_default()\n",
    "\n",
    "        # Calculate text size\n",
    "        text_width, text_height = draw.textsize(headline, font=font)\n",
    "\n",
    "        # Add headline text to the image\n",
    "        draw.text(((800 - text_width) / 2, (600 - text_height) / 2), headline, fill=\"white\", font=font)\n",
    "        \n",
    "        # Save the image\n",
    "        image.save(output_path)\n",
    "\n",
    "    def generate_frames(self):\n",
    "        frames = {\n",
    "            \"frame_1\": {\n",
    "                \"description\": \"A scene of a young adult driving a GM car with the text 'For the Young at Heart'.\",\n",
    "                \"background\": \"lightblue\",\n",
    "                \"headline\": \"For the Young at Heart\",\n",
    "                \"output_path\": \"frame_1.png\"\n",
    "            },\n",
    "            \"frame_2\": {\n",
    "                \"description\": \"A scene of a family in a GM car with the text 'For the Family Oriented'.\",\n",
    "                \"background\": \"lightgreen\",\n",
    "                \"headline\": \"For the Family Oriented\",\n",
    "                \"output_path\": \"frame_2.png\"\n",
    "            },\n",
    "            \"frame_3\": {\n",
    "                \"description\": \"A scene of an older couple in a GM car with the text 'For the Experienced'.\",\n",
    "                \"background\": \"lightgrey\",\n",
    "                \"headline\": \"For the Experienced\",\n",
    "                \"output_path\": \"frame_3.png\"\n",
    "            },\n",
    "            \"end_of_advertisement\": {\n",
    "                \"description\": \"A call-to-action button 'Find Your Perfect Car' redirecting to GM's website.\",\n",
    "                \"background\": \"darkblue\",\n",
    "                \"headline\": \"Find Your Perfect Car\",\n",
    "                \"output_path\": \"end_of_advertisement.png\"\n",
    "            }\n",
    "        }\n",
    "\n",
    "        for frame in frames.values():\n",
    "            self.create_image(frame[\"description\"], frame[\"headline\"], frame[\"background\"], frame[\"output_path\"])\n",
    "\n",
    "# Instantiate the agent\n",
    "image_agent = ImageCompositionAgent()\n",
    "image_agent.generate_frames()\n"
   ]
  }
 ],
 "metadata": {
  "kernelspec": {
   "display_name": "venv",
   "language": "python",
   "name": "python3"
  },
  "language_info": {
   "codemirror_mode": {
    "name": "ipython",
    "version": 3
   },
   "file_extension": ".py",
   "mimetype": "text/x-python",
   "name": "python",
   "nbconvert_exporter": "python",
   "pygments_lexer": "ipython3",
   "version": "3.8.10"
  }
 },
 "nbformat": 4,
 "nbformat_minor": 2
}
